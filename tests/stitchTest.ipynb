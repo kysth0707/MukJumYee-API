{
 "cells": [
  {
   "cell_type": "code",
   "execution_count": 1,
   "metadata": {},
   "outputs": [],
   "source": [
    "import cv2 as cv\n",
    "import numpy as np\n",
    "import copy\n",
    "import numpy as np\n",
    "import matplotlib.pyplot as plt\n",
    "from timeChecker import Timer"
   ]
  },
  {
   "cell_type": "code",
   "execution_count": 2,
   "metadata": {},
   "outputs": [],
   "source": [
    "VIDEO_RESOLUTION = (9*20, 19*20)"
   ]
  },
  {
   "attachments": {},
   "cell_type": "markdown",
   "metadata": {},
   "source": [
    "# Get stitched image by 3 frames"
   ]
  },
  {
   "cell_type": "code",
   "execution_count": 4,
   "metadata": {},
   "outputs": [
    {
     "name": "stdout",
     "output_type": "stream",
     "text": [
      "Time : 0.41536879539489746 sec\n",
      "Time : 0.6235692501068115 sec\n",
      "Time : 0.5391862392425537 sec\n",
      "Time : 0.43480753898620605 sec\n",
      "Time : 0.4315040111541748 sec\n",
      "Time : 0.6006886959075928 sec\n",
      "Time : 0.57364821434021 sec\n",
      "Time : 0.3786885738372803 sec\n",
      "Time : 0.39651942253112793 sec\n",
      "Time : 0.3654024600982666 sec\n",
      "Time : 0.34366846084594727 sec\n",
      "Time : 0.37275195121765137 sec\n",
      "Time : 0.34652209281921387 sec\n",
      "Time : 0.3801722526550293 sec\n"
     ]
    }
   ],
   "source": [
    "cap = cv.VideoCapture('test.mp4')\n",
    "\n",
    "lastFrame = None\n",
    "stitchedImage = None\n",
    "isFirst = True\n",
    "\n",
    "stitcher = cv.Stitcher_create()\n",
    "stitchingImages = []\n",
    "t = Timer()\n",
    "\n",
    "i = 0\n",
    "while(cap.isOpened()):\n",
    "\tret, frame = cap.read()\n",
    "\tif not ret:\n",
    "\t\tbreak\n",
    "\tframe = cv.flip(cv.flip(frame, 0), 1)\n",
    "\tframe = cv.resize(frame, VIDEO_RESOLUTION)\n",
    "\t\n",
    "\t\n",
    "\tif i > 2:\n",
    "\t\ti = 0\n",
    "\t\tt.reset()\n",
    "\n",
    "\t\t_, stitchedImage = stitcher.stitch(stitchingImages)\n",
    "\t\tcv.imshow('stitchedImage', stitchedImage)\n",
    "\n",
    "\t\tt.checkNreset()\n",
    "\t\tstitchingImages = []\n",
    "\tstitchingImages.append(frame)\n",
    "\ti += 1\n",
    "\n",
    "\tcv.imshow('frame', frame)\n",
    "\t\n",
    "\n",
    "\t# lastFrame = copy.deepcopy(frame)\n",
    "\tisFirst = False\n",
    "\tif cv.waitKey(1) & 0xFF == ord('q'):\n",
    "\t\tbreak\n",
    "cap.release()\n",
    "cv.destroyAllWindows()"
   ]
  },
  {
   "attachments": {},
   "cell_type": "markdown",
   "metadata": {},
   "source": [
    "# Get full stitched image"
   ]
  },
  {
   "cell_type": "code",
   "execution_count": 3,
   "metadata": {},
   "outputs": [
    {
     "name": "stdout",
     "output_type": "stream",
     "text": [
      "Getting Image... 377Start stitching...\n"
     ]
    }
   ],
   "source": [
    "cap = cv.VideoCapture('test.mp4')\n",
    "\n",
    "stitcher = cv.Stitcher_create()\n",
    "stitchingImages = []\n",
    "\n",
    "i = 0\n",
    "n = 0\n",
    "while(cap.isOpened()):\n",
    "\tret, frame = cap.read()\n",
    "\tif not ret:\n",
    "\t\tbreak\n",
    "\tif i >= 3:\n",
    "\t\ti = 0\n",
    "\t\tframe = cv.flip(cv.flip(frame, 0), 1)\n",
    "\t\tframe = cv.resize(frame, VIDEO_RESOLUTION)\n",
    "\t\tstitchingImages.append(frame)\n",
    "\t\tprint(f\"\\rGetting Image... {n}\", end='')\n",
    "\t\tn += 1\n",
    "\ti += 1\n",
    "cap.release()\n",
    "stitchingImages = np.array(stitchingImages)\n",
    "print(\"Start stitching...\")\n",
    "\n",
    "t=Timer()\n",
    "_, stitchedImage = stitcher.stitch(stitchingImages)\n",
    "cv.imshow('stitchedImage', stitchedImage)\n",
    "t.checkNreset()\n",
    "\n",
    "cv.waitKey()\n",
    "cv.destroyAllWindows()"
   ]
  },
  {
   "attachments": {},
   "cell_type": "markdown",
   "metadata": {},
   "source": [
    "# Really slow.. Let's fix it"
   ]
  },
  {
   "cell_type": "code",
   "execution_count": 3,
   "metadata": {},
   "outputs": [
    {
     "name": "stdout",
     "output_type": "stream",
     "text": [
      "Getting Image... 377Start stitching...\n",
      "74/75"
     ]
    }
   ],
   "source": [
    "cap = cv.VideoCapture('test.mp4')\n",
    "\n",
    "stitcher = cv.Stitcher_create()\n",
    "stitchingImages = []\n",
    "\n",
    "i = 0\n",
    "n = 0\n",
    "while(cap.isOpened()):\n",
    "\tret, frame = cap.read()\n",
    "\tif not ret:\n",
    "\t\tbreak\n",
    "\tif i >= 3:\n",
    "\t\ti = 0\n",
    "\t\tframe = cv.flip(cv.flip(frame, 0), 1)\n",
    "\t\tframe = cv.resize(frame, VIDEO_RESOLUTION)\n",
    "\t\tstitchingImages.append(frame)\n",
    "\t\tprint(f\"\\rGetting Image... {n}\", end='')\n",
    "\t\tn += 1\n",
    "\ti += 1\n",
    "cap.release()\n",
    "stitchingImages = np.array(stitchingImages)\n",
    "print(\"Start stitching...\")\n",
    "\n",
    "stitchingImageSplitBy5 = []\n",
    "# t=Timer()\n",
    "for i in range(int(len(stitchingImages) / 5)):\n",
    "\tprint(f\"\\r{i}/{int(len(stitchingImages) / 5)}\",end='')\n",
    "\t_, stitchedImage = stitcher.stitch(stitchingImages[i*5:(i+1)*5])\n",
    "\tstitchingImageSplitBy5.append(stitchedImage)\n",
    "\t# cv.imshow('stitchedImage', stitchedImage)\n",
    "\t# t.checkNreset()"
   ]
  },
  {
   "cell_type": "code",
   "execution_count": 5,
   "metadata": {},
   "outputs": [
    {
     "name": "stdout",
     "output_type": "stream",
     "text": [
      "2/15"
     ]
    }
   ],
   "source": [
    "stitchingImageSplitBy5_2 = []\n",
    "# t=Timer()\n",
    "for i in range(int(len(stitchingImageSplitBy5) / 5)):\n",
    "\tprint(f\"\\r{i}/{int(len(stitchingImageSplitBy5) / 5)}\",end='')\n",
    "\t_, stitchedImage = stitcher.stitch(stitchingImageSplitBy5[i*5:(i+1)*5])\n",
    "\tstitchingImageSplitBy5_2.append(stitchedImage)"
   ]
  },
  {
   "cell_type": "code",
   "execution_count": 4,
   "metadata": {},
   "outputs": [
    {
     "name": "stdout",
     "output_type": "stream",
     "text": [
      "img1 - 730 features, img2 - 284 features\n"
     ]
    }
   ],
   "source": [
    "# cap = cv.VideoCapture('test.mp4')\n",
    "\n",
    "# ret, frame1 = cap.read()\n",
    "# for i in range(10):\n",
    "#     cap.read()\n",
    "# ret, frame2 = cap.read()\n",
    "\n",
    "# frame1 = cv.flip(cv.flip(frame1, 0), 1)\n",
    "# frame1 = cv.resize(frame1, VIDEO_RESOLUTION)\n",
    "# frame2 = cv.flip(cv.flip(frame2, 0), 1)\n",
    "# frame2 = cv.resize(frame2, VIDEO_RESOLUTION)\n",
    "\n",
    "# stitchedImage, matchImage, doc = getStitchedImage(frame1, frame2)\n",
    "# cv.imshow('stitch', stitchedImage)\n",
    "# cv.imshow('match', stitchedImage)\n",
    "# print(doc)\n",
    "\n",
    "\n",
    "# cv.imshow('1', frame1)\n",
    "# cv.imshow('2', frame2)\n",
    "\n",
    "# cap.release()\n",
    "# cv.waitKey()\n",
    "# cv.destroyAllWindows()"
   ]
  }
 ],
 "metadata": {
  "kernelspec": {
   "display_name": "Python 3",
   "language": "python",
   "name": "python3"
  },
  "language_info": {
   "codemirror_mode": {
    "name": "ipython",
    "version": 3
   },
   "file_extension": ".py",
   "mimetype": "text/x-python",
   "name": "python",
   "nbconvert_exporter": "python",
   "pygments_lexer": "ipython3",
   "version": "3.10.5"
  },
  "orig_nbformat": 4
 },
 "nbformat": 4,
 "nbformat_minor": 2
}
